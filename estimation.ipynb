{
 "cells": [
  {
   "cell_type": "code",
   "execution_count": 1,
   "id": "92471885",
   "metadata": {},
   "outputs": [],
   "source": [
    "import csv\n",
    "import torch\n",
    "import torch.nn as nn\n",
    "import torch.distributions as Dist\n",
    "torch.set_default_tensor_type(\"torch.DoubleTensor\")\n",
    "import numpy as np\n",
    "import pickle\n",
    "import pandas as pd\n",
    "import cvxpy as cp\n",
    "import math\n",
    "from multiprocessing import Pool\n",
    "import multiprocessing as mp\n",
    "import matplotlib.pyplot as plt"
   ]
  },
  {
   "cell_type": "code",
   "execution_count": 83,
   "id": "ed11b1bf",
   "metadata": {},
   "outputs": [],
   "source": [
    "lam_true = 4\n",
    "torch.manual_seed(42)\n",
    "samp = Dist.Exponential(lam_true)\n",
    "sz = 10000000\n",
    "torch.manual_seed(42)\n",
    "ys = samp.sample(sample_shape=torch.Size([sz]))"
   ]
  },
  {
   "cell_type": "code",
   "execution_count": 84,
   "id": "59ed7e1b",
   "metadata": {},
   "outputs": [
    {
     "name": "stdout",
     "output_type": "stream",
     "text": [
      "tensor(3.6940)\n"
     ]
    }
   ],
   "source": [
    "print(ys.max())"
   ]
  },
  {
   "cell_type": "code",
   "execution_count": 109,
   "id": "cbc87fa9",
   "metadata": {},
   "outputs": [],
   "source": [
    "Ns=500\n",
    "a = np.zeros(Ns,)\n",
    "mus = np.zeros(Ns,)\n",
    "for i in range(Ns):\n",
    "    idx = np.random.randint(low=0, high=sz, size=5000)\n",
    "    data = np.exp(ys[idx])\n",
    "    a[i] = data.max()\n",
    "    mus[i] = np.log(data.mean())\n"
   ]
  },
  {
   "cell_type": "code",
   "execution_count": 110,
   "id": "e7e3dc60",
   "metadata": {},
   "outputs": [
    {
     "data": {
      "image/png": "[encoded data removed]",
      "text/plain": [
       "<Figure size 432x288 with 1 Axes>"
      ]
     },
     "metadata": {
      "needs_background": "light"
     },
     "output_type": "display_data"
    }
   ],
   "source": [
    "_=plt.hist(data.numpy())"
   ]
  },
  {
   "cell_type": "code",
   "execution_count": 111,
   "id": "cedc558b",
   "metadata": {},
   "outputs": [
    {
     "data": {
      "image/png": "[encoded data removed]",
      "text/plain": [
       "<Figure size 432x288 with 1 Axes>"
      ]
     },
     "metadata": {
      "needs_background": "light"
     },
     "output_type": "display_data"
    }
   ],
   "source": [
    "_=plt.hist(mus)"
   ]
  },
  {
   "cell_type": "code",
   "execution_count": 112,
   "id": "775282cc",
   "metadata": {},
   "outputs": [
    {
     "name": "stdout",
     "output_type": "stream",
     "text": [
      "tensor(0.2499)\n"
     ]
    }
   ],
   "source": [
    "print(ys.mean())"
   ]
  },
  {
   "cell_type": "code",
   "execution_count": null,
   "id": "58c8e237",
   "metadata": {},
   "outputs": [],
   "source": [
    "plt.hist?"
   ]
  },
  {
   "cell_type": "code",
   "execution_count": 100,
   "id": "5e1e3dfc",
   "metadata": {},
   "outputs": [
    {
     "data": {
      "image/png": "[encoded data removed]",
      "text/plain": [
       "<Figure size 720x360 with 2 Axes>"
      ]
     },
     "metadata": {
      "needs_background": "light"
     },
     "output_type": "display_data"
    }
   ],
   "source": [
    "import numpy as np\n",
    "import matplotlib.pyplot as plt\n",
    "\n",
    "# Generate 2D exponential data with rate parameters (lambda_1, lambda_2)\n",
    "N = 1000\n",
    "lambda_1 = 4\n",
    "lambda_2 = 5\n",
    "X = np.zeros((N, 2))\n",
    "U = np.random.uniform(size=(N, 2))\n",
    "X[:, 0] = -np.log(1 - U[:, 0]) / lambda_1\n",
    "X[:, 1] = -np.log(1 - U[:, 1]) / lambda_2\n",
    "\n",
    "# Plot the points and the histograms of the marginals\n",
    "fig, ax = plt.subplots(ncols=2, figsize=(10, 5))\n",
    "\n",
    "\n",
    "ax[1].hist(np.exp(X[:, 0]+X[:,1]), bins=20, alpha=0.5, density=True)\n",
    "ax[1].set_xlabel('X1')\n",
    "ax[1].set_ylabel('Frequency')\n",
    "ax[1].set_title('Marginal Distribution of X1')\n",
    "\n",
    "plt.show()"
   ]
  },
  {
   "cell_type": "code",
   "execution_count": null,
   "id": "d199a852",
   "metadata": {},
   "outputs": [],
   "source": []
  }
 ],
 "metadata": {
  "kernelspec": {
   "display_name": "Python 3 (ipykernel)",
   "language": "python",
   "name": "python3"
  },
  "language_info": {
   "codemirror_mode": {
    "name": "ipython",
    "version": 3
   },
   "file_extension": ".py",
   "mimetype": "text/x-python",
   "name": "python",
   "nbconvert_exporter": "python",
   "pygments_lexer": "ipython3",
   "version": "3.9.9"
  }
 },
 "nbformat": 4,
 "nbformat_minor": 5
}
